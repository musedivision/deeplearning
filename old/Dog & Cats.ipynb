{
 "cells": [
  {
   "cell_type": "markdown",
   "metadata": {},
   "source": [
    "# Doggo & Catto Deep Learning from scratch\n",
    "\n",
    "\n",
    "\n",
    "1. configure the new data to the file structure in the same way that was used in the sample lesson 1 notebook\n",
    "2.  make a copy of the lesson 1 notebook and use the new copy to draw in the new Dogs Vs. Cats data (if you copy the  notebook outside of the course folder, don't forget the utils.py, vgg26.py files etc)\n",
    "3. Run the relevant code cells on the sample set of new Dogs v. Cats data to make a prediction on the new image data set.\n",
    "4. Once the sample set works, modify the jupyter notebook to use the new test data images\n",
    "5. write a script that takes the predict() data of the new Dogs vs. Cats data and writes the data to a new csv file in the format of the sample_submission.csv file that was downloaded with the Dogs vs. Cats\n",
    "6. submit that new submission.csv file to the kaggle via the CLI tool\n",
    "7. check the public scoreboard for your own ranking\n",
    "8. modify or tune current code in the lesson 1 notebook to try to get into the top 50% ranking of the current Dogs v Cats competition\n",
    "9. start exploring the other new datasets on kaggle and decide which one you or some teammates would like to study further during the course\n",
    "10. download the new data to your EC2 instance and repeat the previous steps with your brand new data."
   ]
  },
  {
   "cell_type": "markdown",
   "metadata": {},
   "source": [
    "## 1. configure the new data to the file structure"
   ]
  },
  {
   "cell_type": "code",
   "execution_count": 5,
   "metadata": {
    "collapsed": true
   },
   "outputs": [],
   "source": [
    "import shutil, os, random\n",
    "import numpy as np\n",
    "\n",
    "# def makedir(dir):\n",
    "#     if not os.path.exists(dir):\n",
    "#         os.makedir(dir)"
   ]
  },
  {
   "cell_type": "code",
   "execution_count": 2,
   "metadata": {
    "collapsed": true
   },
   "outputs": [],
   "source": [
    "\n",
    "# arr = os.listdir('../train')\n",
    "# cats = filter(lambda x: x.split('.')[0] == 'dog', arr)\n",
    "\n",
    "# print(cats)\n",
    "\n",
    "#  1. configure the new data to the file structure\n",
    "\n",
    "# moving the files around into keras expected folders\n",
    "\n",
    "\n",
    "\n",
    "# path = './data/dogsandcats/train'\n",
    "\n",
    "# # make folders - cats - dogs\n",
    "\n",
    "# makedir(path + '/dogs')\n",
    "# makedir(path + '/cats')\n",
    "\n",
    "# for file in os.listdir(path):\n",
    "# #      print(file.split('.')[0])\n",
    "\n",
    "#         if len(file.split('.')) > 1:\n",
    "#             category = file.split('.')[0]\n",
    "#             source = path + \"/\" + file\n",
    "#             destination = path + \"/\" + category + 's/' + file\n",
    "        \n",
    "#         print(source, destination)\n",
    "# #         shutil.move(source, destination)\n",
    "\n",
    "# print('cats',len(os.listdir(path+'/cats')))\n",
    "# print('dogs',len(os.listdir(path+'/dogs')))\n"
   ]
  },
  {
   "cell_type": "code",
   "execution_count": 6,
   "metadata": {
    "collapsed": false
   },
   "outputs": [
    {
     "name": "stdout",
     "output_type": "stream",
     "text": [
      "25000\n",
      "['dog', 'cat']\n",
      "8 8\n",
      "8 8\n",
      "25000\n",
      "['dog', 'cat']\n",
      "20000 5000\n",
      "training folders populated with  10016 dog photos\n",
      "training folders populated with  2484 dog photos\n",
      "training folders populated with  9984 cat photos\n",
      "training folders populmated with  2516 cat photos\n"
     ]
    }
   ],
   "source": [
    "## create a sampling of the full dataset\n",
    "# put into sample folder\n",
    "\n",
    "#  this samples from the larger folder \n",
    "#  if you run more than once if will sample more than once\n",
    "#  but should only create the files once\n",
    "\n",
    "import os, shutil, random\n",
    "\n",
    "sourcePath = '../train'\n",
    "destinationPath = './data/dogsandcats'\n",
    "\n",
    "\n",
    "def movethem(array, src, dest, folderName, copy=False):\n",
    "#     print(src, dest)\n",
    "    \n",
    "    for file in np.asarray(array):\n",
    "        category = file.split('.')[0]\n",
    "        source = src + \"/\" + file\n",
    "        destination = dest + \"/\"+ folderName+ \"/\" +  category +\"/\" \n",
    "\n",
    "        # create dest folder if not exist\n",
    "        if not os.path.exists(destination):\n",
    "            os.makedirs(destination)\n",
    "\n",
    "#         print(source, destination)\n",
    "        \n",
    "\n",
    "        shutil.copyfile(source, destination + file)\n",
    "\n",
    "\n",
    "\n",
    "\n",
    "def moveForKeras( src, dest, isSample=False, trainsize=8, validsize=4):\n",
    "   \n",
    "    arr, train, valid , types = [], [], [], []\n",
    "    \n",
    "    destPath = dest\n",
    "    \n",
    "    # grab equal size sample of each category\n",
    "    imgs = os.listdir(src)\n",
    "    \n",
    "    for file in imgs:\n",
    "        category = file.split('.')[0]\n",
    "#         print(category)\n",
    "        if category not in types:\n",
    "            types.append(category)\n",
    "    \n",
    "    print(len(imgs))\n",
    "    print(types)\n",
    "    \n",
    "    \n",
    "    if isSample:\n",
    "        \n",
    "        for imgType in types:\n",
    "            oneTypeArr = filter(lambda x: x.split('.')[0] == imgType, imgs)\n",
    "            arr = random.sample(oneTypeArr, trainsize + validsize)\n",
    "    \n",
    "            train = arr[:trainsize]\n",
    "            valid = arr[validsize:]\n",
    "            destPath = dest + '/sample'\n",
    "            \n",
    "            print(len(train), len(valid))\n",
    "            \n",
    "            movethem(train, src, destPath, 'train', isSample)\n",
    "            movethem(valid, src, destPath, 'valid', isSample)\n",
    "        \n",
    "    else:\n",
    "        imgs = np.asarray(imgs)\n",
    "        l = len(imgs)\n",
    "        \n",
    "        train, valid = imgs[0:int(l*0.8)], imgs[int(l*0.8):l]\n",
    "        \n",
    "        print(len(train), len(valid))\n",
    "        \n",
    "        movethem(train, src, destPath, 'train', isSample)\n",
    "        movethem(valid, src, destPath, 'valid', isSample)\n",
    "        \n",
    "#     print('train', train)\n",
    "#     print('valid', valid)\n",
    "    \n",
    "    \n",
    "\n",
    "\n",
    "# sort for SAMPLE set \n",
    "moveForKeras(sourcePath, destinationPath, True)\n",
    "\n",
    "# sort for WHOLE set\n",
    "moveForKeras(sourcePath, destinationPath)\n",
    "\n",
    "\n",
    "print('training folders populated with ', len(os.listdir(destinationPath + '/train' + '/dog')), 'dog photos')\n",
    "print('training folders populated with ', len(os.listdir(destinationPath + '/valid' + '/dog')), 'dog photos')\n",
    "\n",
    "\n",
    "print('training folders populated with ', len(os.listdir(destinationPath + '/train' + '/cat')), 'cat photos')\n",
    "print('training folders populmated with ', len(os.listdir(destinationPath + '/valid' + '/cat')), 'cat photos')\n",
    "# for path in os.listdir(destinationPath + '/sample'):\n",
    "#     print()\n"
   ]
  },
  {
   "cell_type": "code",
   "execution_count": 42,
   "metadata": {
    "collapsed": false
   },
   "outputs": [
    {
     "name": "stdout",
     "output_type": "stream",
     "text": [
      "files in test/unknown folder 12500\n"
     ]
    }
   ],
   "source": [
    "#### create the test folder structure\n",
    "\n",
    "## insert 'unknown' into test folder ( as though it is a class )\n",
    "\n",
    "\n",
    "sample_amount = 8\n",
    "\n",
    "test_path = '../test'\n",
    "\n",
    "test_imgs = os.listdir(test_path)\n",
    "    \n",
    "for file in np.asarray(test_imgs):\n",
    "    source = test_path + \"/\" + file\n",
    "    destination = test_path + \"/unknown/\" + file \n",
    "\n",
    "    # create dest folder if not exist\n",
    "    if not os.path.exists(destination):\n",
    "        os.makedirs(destination)\n",
    "\n",
    "#         print(source, destination)\n",
    "    if not file == 'unknown':  \n",
    "#     print(source, destination, len(os.listdir(test_path+'/unknown/')))\n",
    "        shutil.move(source, destination)\n",
    "\n",
    "print('files in test/unknown folder', len(os.listdir(test_path+'/unknown')))"
   ]
  },
  {
   "cell_type": "markdown",
   "metadata": {},
   "source": [
    "## Dogs and cats model from vgg16"
   ]
  },
  {
   "cell_type": "code",
   "execution_count": 1,
   "metadata": {
    "collapsed": true
   },
   "outputs": [],
   "source": [
    "#  CONFIG AN VARS I DONT UNDERSTAND YET\n",
    "\n",
    "%matplotlib inline\n",
    "# %qtconsole\n",
    "\n",
    "path = './data/dogsandcats/'\n",
    "# path = './data/dogsandcats/sample/'\n",
    "\n",
    "# path = '../test'"
   ]
  },
  {
   "cell_type": "markdown",
   "metadata": {},
   "source": [
    "## Model setup\n",
    "We need to import all the modules we'll be using from numpy, scipy, and keras:"
   ]
  },
  {
   "cell_type": "code",
   "execution_count": 2,
   "metadata": {
    "collapsed": true
   },
   "outputs": [],
   "source": [
    "from __future__ import division,print_function\n",
    "\n",
    "import os, json\n",
    "from glob import glob\n",
    "import numpy as np\n",
    "np.set_printoptions(precision=4, linewidth=100)\n",
    "from matplotlib import pyplot as plt\n",
    "from scipy import misc, ndimage\n",
    "from scipy.ndimage.interpolation import zoom"
   ]
  },
  {
   "cell_type": "markdown",
   "metadata": {},
   "source": [
    "### utils "
   ]
  },
  {
   "cell_type": "code",
   "execution_count": 3,
   "metadata": {
    "collapsed": false
   },
   "outputs": [
    {
     "ename": "ImportError",
     "evalue": "No module named bcolz",
     "output_type": "error",
     "traceback": [
      "\u001b[1;31m\u001b[0m",
      "\u001b[1;31mImportError\u001b[0mTraceback (most recent call last)",
      "\u001b[1;32m<ipython-input-3-834d59d32016>\u001b[0m in \u001b[0;36m<module>\u001b[1;34m()\u001b[0m\n\u001b[1;32m----> 1\u001b[1;33m \u001b[1;32mimport\u001b[0m \u001b[0mutils\u001b[0m\u001b[1;33m;\u001b[0m \u001b[0mreload\u001b[0m\u001b[1;33m(\u001b[0m\u001b[0mutils\u001b[0m\u001b[1;33m)\u001b[0m\u001b[1;33m\u001b[0m\u001b[0m\n\u001b[0m\u001b[0;32m      2\u001b[0m \u001b[1;32mfrom\u001b[0m \u001b[0mutils\u001b[0m \u001b[1;32mimport\u001b[0m \u001b[0mplots\u001b[0m\u001b[1;33m\u001b[0m\u001b[0m\n",
      "\u001b[1;32m/root/sharedfolder/utils.py\u001b[0m in \u001b[0;36m<module>\u001b[1;34m()\u001b[0m\n\u001b[0;32m     20\u001b[0m \u001b[1;32mfrom\u001b[0m \u001b[0mscipy\u001b[0m\u001b[1;33m.\u001b[0m\u001b[0mndimage\u001b[0m \u001b[1;32mimport\u001b[0m \u001b[0mimread\u001b[0m\u001b[1;33m\u001b[0m\u001b[0m\n\u001b[0;32m     21\u001b[0m \u001b[1;32mfrom\u001b[0m \u001b[0msklearn\u001b[0m\u001b[1;33m.\u001b[0m\u001b[0mmetrics\u001b[0m \u001b[1;32mimport\u001b[0m \u001b[0mconfusion_matrix\u001b[0m\u001b[1;33m\u001b[0m\u001b[0m\n\u001b[1;32m---> 22\u001b[1;33m \u001b[1;32mimport\u001b[0m \u001b[0mbcolz\u001b[0m\u001b[1;33m\u001b[0m\u001b[0m\n\u001b[0m\u001b[0;32m     23\u001b[0m \u001b[1;32mfrom\u001b[0m \u001b[0msklearn\u001b[0m\u001b[1;33m.\u001b[0m\u001b[0mpreprocessing\u001b[0m \u001b[1;32mimport\u001b[0m \u001b[0mOneHotEncoder\u001b[0m\u001b[1;33m\u001b[0m\u001b[0m\n\u001b[0;32m     24\u001b[0m \u001b[1;32mfrom\u001b[0m \u001b[0msklearn\u001b[0m\u001b[1;33m.\u001b[0m\u001b[0mmanifold\u001b[0m \u001b[1;32mimport\u001b[0m \u001b[0mTSNE\u001b[0m\u001b[1;33m\u001b[0m\u001b[0m\n",
      "\u001b[1;31mImportError\u001b[0m: No module named bcolz"
     ]
    }
   ],
   "source": [
    "import utils; reload(utils)\n",
    "from utils import plots"
   ]
  },
  {
   "cell_type": "code",
   "execution_count": 4,
   "metadata": {
    "collapsed": true
   },
   "outputs": [],
   "source": [
    "import datetime\n",
    "\n",
    "from numpy.random import random, permutation\n",
    "\n",
    "from keras import backend as K\n",
    "from keras.layers.normalization import BatchNormalization\n",
    "from keras.utils.data_utils import get_file\n",
    "from keras.models import Sequential\n",
    "from keras.layers.core import Flatten, Dense, Dropout, Lambda\n",
    "from keras.layers.convolutional import Convolution2D, MaxPooling2D, ZeroPadding2D\n",
    "from keras.layers.pooling import GlobalAveragePooling2D\n",
    "from keras.optimizers import SGD, RMSprop, Adam\n",
    "from keras.preprocessing import image\n",
    "\n",
    "# In case we are going to use the TensorFlow backend we need to explicitly set the Theano image ordering\n",
    "from keras import backend as K\n",
    "K.set_image_dim_ordering('th')"
   ]
  },
  {
   "cell_type": "code",
   "execution_count": 5,
   "metadata": {
    "collapsed": true
   },
   "outputs": [],
   "source": [
    "FILES_PATH = 'http://files.fast.ai/models/'; CLASS_FILE='imagenet_class_index.json'\n",
    "# Keras' get_file() is a handy function that downloads files, and caches them for re-use later\n",
    "fpath = get_file(CLASS_FILE, FILES_PATH+CLASS_FILE, cache_subdir='models')\n",
    "with open(fpath) as f: class_dict = json.load(f)\n",
    "# Convert dictionary with string indexes into an array\n",
    "classes = [class_dict[str(i)][1] for i in range(len(class_dict))]"
   ]
  },
  {
   "cell_type": "code",
   "execution_count": 19,
   "metadata": {
    "collapsed": false
   },
   "outputs": [
    {
     "data": {
      "text/plain": [
       "['cat', 'dog']"
      ]
     },
     "execution_count": 19,
     "metadata": {},
     "output_type": "execute_result"
    }
   ],
   "source": [
    "classes"
   ]
  },
  {
   "cell_type": "markdown",
   "metadata": {},
   "source": [
    "## Model creation\n",
    "\n",
    "Creating the model involves creating the model architecture, and then loading the model weights into that architecture. We will start by defining the basic pieces of the VGG architecture.\n",
    "\n",
    "VGG has just one type of convolutional block, and one type of fully connected ('dense') block. Here's the convolutional block definition:"
   ]
  },
  {
   "cell_type": "code",
   "execution_count": 7,
   "metadata": {
    "collapsed": true
   },
   "outputs": [],
   "source": [
    "def ConvBlock(layers, model, filters):\n",
    "    for i in range(layers): \n",
    "        model.add(ZeroPadding2D((1,1)))\n",
    "        model.add(Convolution2D(filters, 3, 3, activation='relu'))\n",
    "    model.add(MaxPooling2D((2,2), strides=(2,2)))"
   ]
  },
  {
   "cell_type": "code",
   "execution_count": 8,
   "metadata": {
    "collapsed": true
   },
   "outputs": [],
   "source": [
    "# Fully connected block\n",
    "def FCBlock(model):\n",
    "    model.add(Dense(4096, activation='relu'))\n",
    "    model.add(Dropout(0.5))"
   ]
  },
  {
   "cell_type": "markdown",
   "metadata": {},
   "source": [
    "When the VGG model was trained in 2014, the creators subtracted the average of each of the three (R,G,B) channels first, so that the data for each channel had a mean of zero. Furthermore, their software that expected the channels to be in B,G,R order, whereas Python by default uses R,G,B. We need to preprocess our data to make these two changes, so that it is compatible with the VGG model:"
   ]
  },
  {
   "cell_type": "code",
   "execution_count": 9,
   "metadata": {
    "collapsed": true
   },
   "outputs": [],
   "source": [
    "\n",
    "\n",
    "# Mean of each channel as provided by VGG researchers\n",
    "vgg_mean = np.array([123.68, 116.779, 103.939]).reshape((3,1,1))\n",
    "\n",
    "\n",
    "\n",
    "def vgg_preprocess(x):\n",
    "    x = x - vgg_mean     # subtract mean\n",
    "    return x[:, ::-1]    # reverse axis bgr->rgb"
   ]
  },
  {
   "cell_type": "markdown",
   "metadata": {},
   "source": [
    "## Model Architecture"
   ]
  },
  {
   "cell_type": "code",
   "execution_count": 10,
   "metadata": {
    "collapsed": true
   },
   "outputs": [],
   "source": [
    "def VGG_16():\n",
    "    model = Sequential()\n",
    "    model.add(Lambda(vgg_preprocess, input_shape=(3,224,224)))\n",
    "\n",
    "    ConvBlock(2, model, 64)\n",
    "    ConvBlock(2, model, 128)\n",
    "    ConvBlock(3, model, 256)\n",
    "    ConvBlock(3, model, 512)\n",
    "    ConvBlock(3, model, 512)\n",
    "\n",
    "    model.add(Flatten())\n",
    "    FCBlock(model)\n",
    "    FCBlock(model)\n",
    "    model.add(Dense(1000, activation='softmax'))\n",
    "    return model"
   ]
  },
  {
   "cell_type": "code",
   "execution_count": 11,
   "metadata": {
    "collapsed": false
   },
   "outputs": [],
   "source": [
    "model = VGG_16()"
   ]
  },
  {
   "cell_type": "markdown",
   "metadata": {},
   "source": [
    "### Weights\n",
    "\n",
    "\n"
   ]
  },
  {
   "cell_type": "code",
   "execution_count": 12,
   "metadata": {
    "collapsed": true
   },
   "outputs": [],
   "source": [
    "# trained_model = '2017-11-14-doggo.h5'\n",
    "# # model = 'vgg16.h5'\n",
    "\n",
    "fpath = get_file('vgg16.h5', FILES_PATH+'vgg16.h5', cache_subdir='models')\n",
    "model.load_weights(fpath)\n",
    "\n",
    "# model.load_weights('./2017-12-07-doggo.h5')"
   ]
  },
  {
   "cell_type": "code",
   "execution_count": 13,
   "metadata": {
    "collapsed": true
   },
   "outputs": [],
   "source": [
    "batch_size = 64"
   ]
  },
  {
   "cell_type": "code",
   "execution_count": 14,
   "metadata": {
    "collapsed": true
   },
   "outputs": [],
   "source": [
    "def get_batches(dirname, gen=image.ImageDataGenerator(), shuffle=True, \n",
    "                batch_size=batch_size, class_mode='categorical'):\n",
    "    return gen.flow_from_directory(path+dirname, target_size=(224,224), \n",
    "                class_mode=class_mode, shuffle=shuffle, batch_size=batch_size)"
   ]
  },
  {
   "cell_type": "code",
   "execution_count": 15,
   "metadata": {
    "collapsed": false
   },
   "outputs": [
    {
     "name": "stdout",
     "output_type": "stream",
     "text": [
      "Found 20000 images belonging to 2 classes.\n",
      "Found 5000 images belonging to 2 classes.\n"
     ]
    }
   ],
   "source": [
    "batches = get_batches('train', batch_size=batch_size)\n",
    "val_batches = get_batches('valid', batch_size=batch_size)\n",
    "\n",
    "\n"
   ]
  },
  {
   "cell_type": "markdown",
   "metadata": {},
   "source": [
    "## finetune"
   ]
  },
  {
   "cell_type": "code",
   "execution_count": 16,
   "metadata": {
    "collapsed": false
   },
   "outputs": [
    {
     "name": "stdout",
     "output_type": "stream",
     "text": [
      "['cat', 'dog']\n"
     ]
    }
   ],
   "source": [
    "\"\"\"\n",
    "    Modifies the original VGG16 network architecture and updates self.classes for new training data.\n",
    "\n",
    "\"\"\"\n",
    "\"\"\"\n",
    "    Replace the last layer of the model with a Dense (fully connected) layer of num neurons.\n",
    "    Will also lock the weights of all layers except the new layer so that we only learn\n",
    "    weights for the last layer in subsequent training.\n",
    "\n",
    "\"\"\"\n",
    "model.pop()\n",
    "for layer in model.layers: layer.trainable=False\n",
    "model.add(Dense(batches.nb_class, activation='softmax'))\n",
    "\"\"\"\n",
    "    Configures the model for training.\n",
    "    See Keras documentation: https://keras.io/models/model/\n",
    "\"\"\"\n",
    "model.compile(optimizer=Adam(lr=0.001),\n",
    "        loss='categorical_crossentropy', metrics=['accuracy'])\n",
    "\n",
    "\n",
    "classes = list(iter(batches.class_indices)) # get a list of all the class labels\n",
    "\n",
    "# batches.class_indices is a dict with the class name as key and an index as value\n",
    "# eg. {'cats': 0, 'dogs': 1}\n",
    "\n",
    "# sort the class labels by index according to batches.class_indices and update model.classes\n",
    "for c in batches.class_indices:\n",
    "    classes[batches.class_indices[c]] = c\n",
    "\n",
    "print(classes) "
   ]
  },
  {
   "cell_type": "code",
   "execution_count": 17,
   "metadata": {
    "collapsed": true
   },
   "outputs": [],
   "source": [
    "# save current classes to a file\n",
    "# classFile = open('./classes/doggo-classes.json', \"a+\")\n",
    "# classDump = json.dumps({\"classes\":classes})\n",
    "\n",
    "# print(classDump)\n",
    "\n",
    "# classFile.write(classDump) \n",
    "# # for i in classes: \n",
    "# #     classFile.write(classes)\n",
    "# classFile.close()"
   ]
  },
  {
   "cell_type": "code",
   "execution_count": 18,
   "metadata": {
    "collapsed": true
   },
   "outputs": [],
   "source": [
    "#  LOAD saved json classes\n",
    "\n",
    "# classes = json.loads('./classes/doggo-classes.json')"
   ]
  },
  {
   "cell_type": "markdown",
   "metadata": {},
   "source": [
    "## fit data"
   ]
  },
  {
   "cell_type": "code",
   "execution_count": null,
   "metadata": {
    "collapsed": false
   },
   "outputs": [
    {
     "name": "stdout",
     "output_type": "stream",
     "text": [
      "Epoch 1/1\n",
      " 2496/20000 [==>...........................] - ETA: 443s - loss: 0.1988 - acc: 0.9367"
     ]
    }
   ],
   "source": [
    "\"\"\"\n",
    "    Fits the model on data yielded batch-by-batch by a Python generator.\n",
    "    See Keras documentation: https://keras.io/models/model/\n",
    "\"\"\"\n",
    "#  this is the model being trained batch by batch\n",
    "model.fit_generator(batches, samples_per_epoch=batches.nb_sample, nb_epoch=1,\n",
    "        validation_data=val_batches, nb_val_samples=val_batches.nb_sample)\n",
    "\n",
    "# save weights to file when training is done\n",
    "# model.save_weights('{}-doggo'.format(datetime.datetime.now().strftime(\"%Y-%m-%d\"))+\".h5\")\n"
   ]
  },
  {
   "cell_type": "markdown",
   "metadata": {},
   "source": [
    "## Prediction"
   ]
  },
  {
   "cell_type": "code",
   "execution_count": null,
   "metadata": {
    "collapsed": true
   },
   "outputs": [],
   "source": []
  },
  {
   "cell_type": "code",
   "execution_count": 18,
   "metadata": {
    "collapsed": true
   },
   "outputs": [],
   "source": [
    "#  save model\n",
    "model.save_weights('{}-doggo-untrained'.format(datetime.datetime.now().strftime(\"%Y-%m-%d\"))+\".h5\")"
   ]
  },
  {
   "cell_type": "code",
   "execution_count": 23,
   "metadata": {
    "collapsed": false
   },
   "outputs": [
    {
     "data": {
      "image/png": "[encoded data removed]",
      "text/plain": [
       "<matplotlib.figure.Figure at 0x7f13f6617510>"
      ]
     },
     "metadata": {},
     "output_type": "display_data"
    }
   ],
   "source": [
    "\n",
    "imgs,labels = next(batches)\n",
    "\n",
    "# This shows the 'ground truth'\n",
    "plots(imgs, titles=labels)"
   ]
  },
  {
   "cell_type": "code",
   "execution_count": 24,
   "metadata": {
    "collapsed": true
   },
   "outputs": [],
   "source": [
    "def pred_batch(imgs):\n",
    "    preds = model.predict(imgs)\n",
    "    idxs = np.argmax(preds, axis=1)\n",
    "\n",
    "    print('Shape: {}'.format(preds.shape))\n",
    "    print('First 5 classes: {}'.format(classes[:5]))\n",
    "    print('First 5 probabilities: {}\\n'.format(preds[0, :5]))\n",
    "    print('Predictions prob/class: ')\n",
    "    \n",
    "    for i in range(len(idxs)):\n",
    "        idx = idxs[i]\n",
    "        print ('  {:.4f}/{}'.format(preds[i, idx], classes[idx]))"
   ]
  },
  {
   "cell_type": "code",
   "execution_count": 21,
   "metadata": {
    "collapsed": false
   },
   "outputs": [
    {
     "ename": "NameError",
     "evalue": "name 'imgs' is not defined",
     "output_type": "error",
     "traceback": [
      "\u001b[0;31m---------------------------------------------------------------------------\u001b[0m",
      "\u001b[0;31mNameError\u001b[0m                                 Traceback (most recent call last)",
      "\u001b[0;32m<ipython-input-21-09fb28ea2265>\u001b[0m in \u001b[0;36m<module>\u001b[0;34m()\u001b[0m\n\u001b[0;32m----> 1\u001b[0;31m \u001b[0mpred_batch\u001b[0m\u001b[0;34m(\u001b[0m\u001b[0mimgs\u001b[0m\u001b[0;34m)\u001b[0m\u001b[0;34m\u001b[0m\u001b[0m\n\u001b[0m",
      "\u001b[0;31mNameError\u001b[0m: name 'imgs' is not defined"
     ]
    }
   ],
   "source": [
    "pred_batch(imgs)"
   ]
  },
  {
   "cell_type": "markdown",
   "metadata": {
    "collapsed": true
   },
   "source": [
    "# Testing the model\n"
   ]
  },
  {
   "cell_type": "code",
   "execution_count": 20,
   "metadata": {
    "collapsed": false,
    "scrolled": true
   },
   "outputs": [
    {
     "name": "stdout",
     "output_type": "stream",
     "text": [
      "12500 test images\n",
      "Found 12500 images belonging to 12500 classes.\n"
     ]
    }
   ],
   "source": [
    "##  get test batches\n",
    "\n",
    "print(len(os.listdir('../test/unknown')), 'test images')\n",
    "# print(dirname)\n",
    "\n",
    "test_batches = image.ImageDataGenerator().flow_from_directory('../test/unknown', target_size=(224,224), \n",
    "                class_mode=None, shuffle=False, batch_size=128)        \n",
    "\n",
    "imgs = next(test_batches)\n",
    "# plots(imgs, preds)"
   ]
  },
  {
   "cell_type": "markdown",
   "metadata": {},
   "source": [
    "## predict to kaggle csv submission format"
   ]
  },
  {
   "cell_type": "code",
   "execution_count": 21,
   "metadata": {
    "collapsed": false
   },
   "outputs": [],
   "source": [
    "import pandas as pd\n",
    "\n",
    "preds = model.predict_generator(test_batches, test_batches.nb_sample)\n"
   ]
  },
  {
   "cell_type": "code",
   "execution_count": 41,
   "metadata": {
    "collapsed": false
   },
   "outputs": [],
   "source": [
    "# format predictions into a dataframe\n",
    "\n",
    "ids = map(lambda img: int(img.split('.')[0]), test_batches.class_indices)\n",
    "dogs = map(lambda arr: arr[1], preds)\n",
    "    \n",
    "# clip . predictions\n",
    "probablity_is_dog = map(lambda pred: 0.90000 if pred > 0.90001 else pred  , dogs )\n",
    "# probablity_is_dog = dogs\n"
   ]
  },
  {
   "cell_type": "code",
   "execution_count": 42,
   "metadata": {
    "collapsed": false
   },
   "outputs": [
    {
     "name": "stdout",
     "output_type": "stream",
     "text": [
      "       id         label\n",
      "9891    1  9.000000e-01\n",
      "1846    2  9.000000e-01\n",
      "11319   3  1.059537e-13\n",
      "12170   4  9.000000e-01\n",
      "3096    5  1.279798e-05\n",
      "12147   6  9.000000e-01\n",
      "8548    7  7.165514e-08\n",
      "3925    8  4.039388e-07\n",
      "910     9  9.000000e-01\n",
      "2853   10  9.000000e-01\n"
     ]
    }
   ],
   "source": [
    "df = pd.DataFrame({\n",
    "    'id' : ids,\n",
    "    'label' : probablity_is_dog\n",
    " })\n",
    "\n",
    "# sort by image id number\n",
    "df = df.sort_values(by=['id'])\n",
    "\n",
    "print(df.head(10))"
   ]
  },
  {
   "cell_type": "code",
   "execution_count": null,
   "metadata": {
    "collapsed": true
   },
   "outputs": [],
   "source": []
  },
  {
   "cell_type": "code",
   "execution_count": 43,
   "metadata": {
    "collapsed": false
   },
   "outputs": [],
   "source": [
    "#  WRITE to CSV\n",
    "submission = open('./submission.csv', 'a+')\n",
    "submission.write('id,label\\n')\n",
    "\n",
    "for index, row in df.iterrows():\n",
    "    string = \"{:.0f},{:.10f}\\n\".format(row['id'], row['label'])\n",
    "#     print(string)\n",
    "    submission.write(string)\n",
    "\n",
    "    \n",
    "submission.close()"
   ]
  },
  {
   "cell_type": "code",
   "execution_count": 36,
   "metadata": {
    "collapsed": false
   },
   "outputs": [
    {
     "name": "stdout",
     "output_type": "stream",
     "text": [
      "2.7.13 |Anaconda 4.4.0 (64-bit)| (default, Dec 20 2016, 23:09:15) \n",
      "[GCC 4.4.7 20120313 (Red Hat 4.4.7-1)]\n"
     ]
    }
   ],
   "source": [
    "import sys\n",
    "print( sys.version)"
   ]
  },
  {
   "cell_type": "code",
   "execution_count": null,
   "metadata": {
    "collapsed": true
   },
   "outputs": [],
   "source": []
  }
 ],
 "metadata": {
  "kernelspec": {
   "display_name": "Python 2",
   "language": "python",
   "name": "python2"
  },
  "language_info": {
   "codemirror_mode": {
    "name": "ipython",
    "version": 2
   },
   "file_extension": ".py",
   "mimetype": "text/x-python",
   "name": "python",
   "nbconvert_exporter": "python",
   "pygments_lexer": "ipython2",
   "version": "2.7.6"
  }
 },
 "nbformat": 4,
 "nbformat_minor": 2
}
